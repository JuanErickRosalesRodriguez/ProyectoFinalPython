{
 "cells": [
  {
   "cell_type": "markdown",
   "metadata": {},
   "source": [
    "\n",
    "## Librerias"
   ]
  },
  {
   "cell_type": "code",
   "execution_count": 42,
   "metadata": {},
   "outputs": [],
   "source": [
    "import pandas as pd\n",
    "import numpy as np\n",
    "from scipy.stats import pearsonr\n",
    "import random\n",
    "from sklearn import linear_model\n",
    "import sklearn \n",
    "import seaborn as sns\n",
    "import matplotlib.pyplot as plt"
   ]
  },
  {
   "cell_type": "markdown",
   "metadata": {},
   "source": [
    "## Carga de dataset"
   ]
  },
  {
   "cell_type": "code",
   "execution_count": 43,
   "metadata": {},
   "outputs": [],
   "source": [
    "data = np.load('C:\\\\Users\\\\Best Computer\\\\Desktop\\\\Juan Erick Sr\\\\MaestriaCienciaDeDatos\\\\CienciaDeDatosConPython\\\\Proyecto\\\\proyecto_training_data.npy')\n"
   ]
  },
  {
   "cell_type": "markdown",
   "metadata": {},
   "source": [
    "## Partición de base de datos en 80% entranamiento y 20% validación/test"
   ]
  },
  {
   "cell_type": "code",
   "execution_count": 44,
   "metadata": {},
   "outputs": [],
   "source": [
    "np.random.seed(19810523)\n",
    "idx_train = random.sample(range(len(data)), int(len(data)*.8))\n",
    "idx_test = list(set(range(len(data))) - set(idx_train))\n",
    "\n",
    "data_train = pd.DataFrame(data[idx_train,:])\n",
    "data_train.columns = ['SalePrice','OverallQual','1stFlrSF','TotRmsAbvGrd','YearBuilt','LotFrontage']\n",
    "data_train['grupo'] = 'training'\n",
    "\n",
    "data_test = pd.DataFrame(data[idx_test,:])\n",
    "data_test.columns = ['SalePrice','OverallQual','1stFlrSF','TotRmsAbvGrd','YearBuilt','LotFrontage']\n",
    "data_test['grupo'] = 'test'\n",
    "\n",
    "dataset = data_train.append(data_test, ignore_index=True)\n"
   ]
  },
  {
   "cell_type": "markdown",
   "metadata": {},
   "source": [
    "## Análsis exploratorio de datos"
   ]
  },
  {
   "cell_type": "markdown",
   "metadata": {},
   "source": [
    "### Datos faltantes"
   ]
  },
  {
   "cell_type": "code",
   "execution_count": 45,
   "metadata": {},
   "outputs": [
    {
     "data": {
      "text/plain": [
       "SalePrice         0\n",
       "OverallQual       0\n",
       "1stFlrSF          0\n",
       "TotRmsAbvGrd      0\n",
       "YearBuilt         0\n",
       "LotFrontage     259\n",
       "grupo             0\n",
       "dtype: int64"
      ]
     },
     "execution_count": 45,
     "metadata": {},
     "output_type": "execute_result"
    }
   ],
   "source": [
    "\n",
    "dataset.isna().sum()"
   ]
  },
  {
   "cell_type": "markdown",
   "metadata": {},
   "source": [
    "### Estadísticos descriptivos\n"
   ]
  },
  {
   "cell_type": "markdown",
   "metadata": {},
   "source": [
    "#### 1. DataSet total"
   ]
  },
  {
   "cell_type": "code",
   "execution_count": 46,
   "metadata": {},
   "outputs": [
    {
     "data": {
      "text/html": [
       "<div>\n",
       "<style scoped>\n",
       "    .dataframe tbody tr th:only-of-type {\n",
       "        vertical-align: middle;\n",
       "    }\n",
       "\n",
       "    .dataframe tbody tr th {\n",
       "        vertical-align: top;\n",
       "    }\n",
       "\n",
       "    .dataframe thead th {\n",
       "        text-align: right;\n",
       "    }\n",
       "</style>\n",
       "<table border=\"1\" class=\"dataframe\">\n",
       "  <thead>\n",
       "    <tr style=\"text-align: right;\">\n",
       "      <th></th>\n",
       "      <th>SalePrice</th>\n",
       "      <th>OverallQual</th>\n",
       "      <th>1stFlrSF</th>\n",
       "      <th>TotRmsAbvGrd</th>\n",
       "      <th>YearBuilt</th>\n",
       "      <th>LotFrontage</th>\n",
       "    </tr>\n",
       "  </thead>\n",
       "  <tbody>\n",
       "    <tr>\n",
       "      <th>count</th>\n",
       "      <td>1460.000000</td>\n",
       "      <td>1460.000000</td>\n",
       "      <td>1460.000000</td>\n",
       "      <td>1460.000000</td>\n",
       "      <td>1460.000000</td>\n",
       "      <td>1201.000000</td>\n",
       "    </tr>\n",
       "    <tr>\n",
       "      <th>mean</th>\n",
       "      <td>180921.195890</td>\n",
       "      <td>6.099315</td>\n",
       "      <td>1162.626712</td>\n",
       "      <td>6.517808</td>\n",
       "      <td>1971.267808</td>\n",
       "      <td>70.049958</td>\n",
       "    </tr>\n",
       "    <tr>\n",
       "      <th>std</th>\n",
       "      <td>79442.502883</td>\n",
       "      <td>1.382997</td>\n",
       "      <td>386.587738</td>\n",
       "      <td>1.625393</td>\n",
       "      <td>30.202904</td>\n",
       "      <td>24.284752</td>\n",
       "    </tr>\n",
       "    <tr>\n",
       "      <th>min</th>\n",
       "      <td>34900.000000</td>\n",
       "      <td>1.000000</td>\n",
       "      <td>334.000000</td>\n",
       "      <td>2.000000</td>\n",
       "      <td>1872.000000</td>\n",
       "      <td>21.000000</td>\n",
       "    </tr>\n",
       "    <tr>\n",
       "      <th>25%</th>\n",
       "      <td>129975.000000</td>\n",
       "      <td>5.000000</td>\n",
       "      <td>882.000000</td>\n",
       "      <td>5.000000</td>\n",
       "      <td>1954.000000</td>\n",
       "      <td>59.000000</td>\n",
       "    </tr>\n",
       "    <tr>\n",
       "      <th>50%</th>\n",
       "      <td>163000.000000</td>\n",
       "      <td>6.000000</td>\n",
       "      <td>1087.000000</td>\n",
       "      <td>6.000000</td>\n",
       "      <td>1973.000000</td>\n",
       "      <td>69.000000</td>\n",
       "    </tr>\n",
       "    <tr>\n",
       "      <th>75%</th>\n",
       "      <td>214000.000000</td>\n",
       "      <td>7.000000</td>\n",
       "      <td>1391.250000</td>\n",
       "      <td>7.000000</td>\n",
       "      <td>2000.000000</td>\n",
       "      <td>80.000000</td>\n",
       "    </tr>\n",
       "    <tr>\n",
       "      <th>max</th>\n",
       "      <td>755000.000000</td>\n",
       "      <td>10.000000</td>\n",
       "      <td>4692.000000</td>\n",
       "      <td>14.000000</td>\n",
       "      <td>2010.000000</td>\n",
       "      <td>313.000000</td>\n",
       "    </tr>\n",
       "  </tbody>\n",
       "</table>\n",
       "</div>"
      ],
      "text/plain": [
       "           SalePrice  OverallQual     1stFlrSF  TotRmsAbvGrd    YearBuilt  \\\n",
       "count    1460.000000  1460.000000  1460.000000   1460.000000  1460.000000   \n",
       "mean   180921.195890     6.099315  1162.626712      6.517808  1971.267808   \n",
       "std     79442.502883     1.382997   386.587738      1.625393    30.202904   \n",
       "min     34900.000000     1.000000   334.000000      2.000000  1872.000000   \n",
       "25%    129975.000000     5.000000   882.000000      5.000000  1954.000000   \n",
       "50%    163000.000000     6.000000  1087.000000      6.000000  1973.000000   \n",
       "75%    214000.000000     7.000000  1391.250000      7.000000  2000.000000   \n",
       "max    755000.000000    10.000000  4692.000000     14.000000  2010.000000   \n",
       "\n",
       "       LotFrontage  \n",
       "count  1201.000000  \n",
       "mean     70.049958  \n",
       "std      24.284752  \n",
       "min      21.000000  \n",
       "25%      59.000000  \n",
       "50%      69.000000  \n",
       "75%      80.000000  \n",
       "max     313.000000  "
      ]
     },
     "execution_count": 46,
     "metadata": {},
     "output_type": "execute_result"
    }
   ],
   "source": [
    "eda = dataset.describe()\n",
    "eda"
   ]
  },
  {
   "cell_type": "markdown",
   "metadata": {},
   "source": [
    "#### 2. DataSet entrenamiento"
   ]
  },
  {
   "cell_type": "code",
   "execution_count": 47,
   "metadata": {},
   "outputs": [
    {
     "data": {
      "text/html": [
       "<div>\n",
       "<style scoped>\n",
       "    .dataframe tbody tr th:only-of-type {\n",
       "        vertical-align: middle;\n",
       "    }\n",
       "\n",
       "    .dataframe tbody tr th {\n",
       "        vertical-align: top;\n",
       "    }\n",
       "\n",
       "    .dataframe thead th {\n",
       "        text-align: right;\n",
       "    }\n",
       "</style>\n",
       "<table border=\"1\" class=\"dataframe\">\n",
       "  <thead>\n",
       "    <tr style=\"text-align: right;\">\n",
       "      <th></th>\n",
       "      <th>SalePrice</th>\n",
       "      <th>OverallQual</th>\n",
       "      <th>1stFlrSF</th>\n",
       "      <th>TotRmsAbvGrd</th>\n",
       "      <th>YearBuilt</th>\n",
       "      <th>LotFrontage</th>\n",
       "    </tr>\n",
       "  </thead>\n",
       "  <tbody>\n",
       "    <tr>\n",
       "      <th>count</th>\n",
       "      <td>1168.000000</td>\n",
       "      <td>1168.000000</td>\n",
       "      <td>1168.000000</td>\n",
       "      <td>1168.000000</td>\n",
       "      <td>1168.000000</td>\n",
       "      <td>952.000000</td>\n",
       "    </tr>\n",
       "    <tr>\n",
       "      <th>mean</th>\n",
       "      <td>182348.835616</td>\n",
       "      <td>6.114726</td>\n",
       "      <td>1167.553938</td>\n",
       "      <td>6.547945</td>\n",
       "      <td>1971.496575</td>\n",
       "      <td>70.680672</td>\n",
       "    </tr>\n",
       "    <tr>\n",
       "      <th>std</th>\n",
       "      <td>80540.514228</td>\n",
       "      <td>1.383780</td>\n",
       "      <td>386.648835</td>\n",
       "      <td>1.651079</td>\n",
       "      <td>29.935950</td>\n",
       "      <td>24.948926</td>\n",
       "    </tr>\n",
       "    <tr>\n",
       "      <th>min</th>\n",
       "      <td>34900.000000</td>\n",
       "      <td>1.000000</td>\n",
       "      <td>334.000000</td>\n",
       "      <td>2.000000</td>\n",
       "      <td>1872.000000</td>\n",
       "      <td>21.000000</td>\n",
       "    </tr>\n",
       "    <tr>\n",
       "      <th>25%</th>\n",
       "      <td>130875.000000</td>\n",
       "      <td>5.000000</td>\n",
       "      <td>884.000000</td>\n",
       "      <td>5.000000</td>\n",
       "      <td>1954.000000</td>\n",
       "      <td>60.000000</td>\n",
       "    </tr>\n",
       "    <tr>\n",
       "      <th>50%</th>\n",
       "      <td>164600.000000</td>\n",
       "      <td>6.000000</td>\n",
       "      <td>1093.000000</td>\n",
       "      <td>6.000000</td>\n",
       "      <td>1973.000000</td>\n",
       "      <td>70.000000</td>\n",
       "    </tr>\n",
       "    <tr>\n",
       "      <th>75%</th>\n",
       "      <td>215000.000000</td>\n",
       "      <td>7.000000</td>\n",
       "      <td>1419.750000</td>\n",
       "      <td>7.000000</td>\n",
       "      <td>2000.000000</td>\n",
       "      <td>80.000000</td>\n",
       "    </tr>\n",
       "    <tr>\n",
       "      <th>max</th>\n",
       "      <td>755000.000000</td>\n",
       "      <td>10.000000</td>\n",
       "      <td>4692.000000</td>\n",
       "      <td>14.000000</td>\n",
       "      <td>2010.000000</td>\n",
       "      <td>313.000000</td>\n",
       "    </tr>\n",
       "  </tbody>\n",
       "</table>\n",
       "</div>"
      ],
      "text/plain": [
       "           SalePrice  OverallQual     1stFlrSF  TotRmsAbvGrd    YearBuilt  \\\n",
       "count    1168.000000  1168.000000  1168.000000   1168.000000  1168.000000   \n",
       "mean   182348.835616     6.114726  1167.553938      6.547945  1971.496575   \n",
       "std     80540.514228     1.383780   386.648835      1.651079    29.935950   \n",
       "min     34900.000000     1.000000   334.000000      2.000000  1872.000000   \n",
       "25%    130875.000000     5.000000   884.000000      5.000000  1954.000000   \n",
       "50%    164600.000000     6.000000  1093.000000      6.000000  1973.000000   \n",
       "75%    215000.000000     7.000000  1419.750000      7.000000  2000.000000   \n",
       "max    755000.000000    10.000000  4692.000000     14.000000  2010.000000   \n",
       "\n",
       "       LotFrontage  \n",
       "count   952.000000  \n",
       "mean     70.680672  \n",
       "std      24.948926  \n",
       "min      21.000000  \n",
       "25%      60.000000  \n",
       "50%      70.000000  \n",
       "75%      80.000000  \n",
       "max     313.000000  "
      ]
     },
     "execution_count": 47,
     "metadata": {},
     "output_type": "execute_result"
    }
   ],
   "source": [
    "eda_train = dataset[dataset['grupo'] == 'training'].describe()\n",
    "eda_train"
   ]
  },
  {
   "cell_type": "markdown",
   "metadata": {},
   "source": [
    "#### 3. DataSet validación / test"
   ]
  },
  {
   "cell_type": "code",
   "execution_count": 48,
   "metadata": {},
   "outputs": [
    {
     "data": {
      "text/html": [
       "<div>\n",
       "<style scoped>\n",
       "    .dataframe tbody tr th:only-of-type {\n",
       "        vertical-align: middle;\n",
       "    }\n",
       "\n",
       "    .dataframe tbody tr th {\n",
       "        vertical-align: top;\n",
       "    }\n",
       "\n",
       "    .dataframe thead th {\n",
       "        text-align: right;\n",
       "    }\n",
       "</style>\n",
       "<table border=\"1\" class=\"dataframe\">\n",
       "  <thead>\n",
       "    <tr style=\"text-align: right;\">\n",
       "      <th></th>\n",
       "      <th>SalePrice</th>\n",
       "      <th>OverallQual</th>\n",
       "      <th>1stFlrSF</th>\n",
       "      <th>TotRmsAbvGrd</th>\n",
       "      <th>YearBuilt</th>\n",
       "      <th>LotFrontage</th>\n",
       "    </tr>\n",
       "  </thead>\n",
       "  <tbody>\n",
       "    <tr>\n",
       "      <th>count</th>\n",
       "      <td>292.000000</td>\n",
       "      <td>292.000000</td>\n",
       "      <td>292.000000</td>\n",
       "      <td>292.000000</td>\n",
       "      <td>292.000000</td>\n",
       "      <td>249.000000</td>\n",
       "    </tr>\n",
       "    <tr>\n",
       "      <th>mean</th>\n",
       "      <td>175210.636986</td>\n",
       "      <td>6.037671</td>\n",
       "      <td>1142.917808</td>\n",
       "      <td>6.397260</td>\n",
       "      <td>1970.352740</td>\n",
       "      <td>67.638554</td>\n",
       "    </tr>\n",
       "    <tr>\n",
       "      <th>std</th>\n",
       "      <td>74749.127867</td>\n",
       "      <td>1.380504</td>\n",
       "      <td>386.376728</td>\n",
       "      <td>1.515008</td>\n",
       "      <td>31.283905</td>\n",
       "      <td>21.432891</td>\n",
       "    </tr>\n",
       "    <tr>\n",
       "      <th>min</th>\n",
       "      <td>35311.000000</td>\n",
       "      <td>2.000000</td>\n",
       "      <td>480.000000</td>\n",
       "      <td>3.000000</td>\n",
       "      <td>1875.000000</td>\n",
       "      <td>21.000000</td>\n",
       "    </tr>\n",
       "    <tr>\n",
       "      <th>25%</th>\n",
       "      <td>125500.000000</td>\n",
       "      <td>5.000000</td>\n",
       "      <td>878.750000</td>\n",
       "      <td>5.000000</td>\n",
       "      <td>1952.750000</td>\n",
       "      <td>55.000000</td>\n",
       "    </tr>\n",
       "    <tr>\n",
       "      <th>50%</th>\n",
       "      <td>155500.000000</td>\n",
       "      <td>6.000000</td>\n",
       "      <td>1065.000000</td>\n",
       "      <td>6.000000</td>\n",
       "      <td>1972.000000</td>\n",
       "      <td>66.000000</td>\n",
       "    </tr>\n",
       "    <tr>\n",
       "      <th>75%</th>\n",
       "      <td>206212.500000</td>\n",
       "      <td>7.000000</td>\n",
       "      <td>1339.250000</td>\n",
       "      <td>7.000000</td>\n",
       "      <td>2001.000000</td>\n",
       "      <td>80.000000</td>\n",
       "    </tr>\n",
       "    <tr>\n",
       "      <th>max</th>\n",
       "      <td>501837.000000</td>\n",
       "      <td>10.000000</td>\n",
       "      <td>3138.000000</td>\n",
       "      <td>11.000000</td>\n",
       "      <td>2009.000000</td>\n",
       "      <td>150.000000</td>\n",
       "    </tr>\n",
       "  </tbody>\n",
       "</table>\n",
       "</div>"
      ],
      "text/plain": [
       "           SalePrice  OverallQual     1stFlrSF  TotRmsAbvGrd    YearBuilt  \\\n",
       "count     292.000000   292.000000   292.000000    292.000000   292.000000   \n",
       "mean   175210.636986     6.037671  1142.917808      6.397260  1970.352740   \n",
       "std     74749.127867     1.380504   386.376728      1.515008    31.283905   \n",
       "min     35311.000000     2.000000   480.000000      3.000000  1875.000000   \n",
       "25%    125500.000000     5.000000   878.750000      5.000000  1952.750000   \n",
       "50%    155500.000000     6.000000  1065.000000      6.000000  1972.000000   \n",
       "75%    206212.500000     7.000000  1339.250000      7.000000  2001.000000   \n",
       "max    501837.000000    10.000000  3138.000000     11.000000  2009.000000   \n",
       "\n",
       "       LotFrontage  \n",
       "count   249.000000  \n",
       "mean     67.638554  \n",
       "std      21.432891  \n",
       "min      21.000000  \n",
       "25%      55.000000  \n",
       "50%      66.000000  \n",
       "75%      80.000000  \n",
       "max     150.000000  "
      ]
     },
     "execution_count": 48,
     "metadata": {},
     "output_type": "execute_result"
    }
   ],
   "source": [
    "eda_test = dataset[dataset['grupo'] == 'test'].describe()\n",
    "eda_test"
   ]
  },
  {
   "cell_type": "markdown",
   "metadata": {},
   "source": [
    "### Observaciones"
   ]
  },
  {
   "cell_type": "markdown",
   "metadata": {},
   "source": [
    "1. Solo se observa que  la variable LofFrontage presenta anomalias al tener datos vacios. \n",
    "2. El precio promedio de una casa es de 182K.\n",
    "3. No se observa datos atipicos en todas las variables.\n",
    "4. Los estadísticos descriptivos entre la partición  total, entrenamiento y validación son muy similares esto indica que no hay sesgo en las particiones.\n"
   ]
  },
  {
   "cell_type": "markdown",
   "metadata": {},
   "source": [
    "### HISTOGRAMAS"
   ]
  },
  {
   "cell_type": "markdown",
   "metadata": {},
   "source": [
    "#### 1. SalePrice"
   ]
  },
  {
   "cell_type": "code",
   "execution_count": 49,
   "metadata": {},
   "outputs": [
    {
     "data": {
      "text/plain": [
       "<seaborn.axisgrid.FacetGrid at 0x22f276569a0>"
      ]
     },
     "execution_count": 49,
     "metadata": {},
     "output_type": "execute_result"
    },
    {
     "data": {
      "image/png": "[encoded data removed]",
      "text/plain": [
       "<Figure size 360x360 with 1 Axes>"
      ]
     },
     "metadata": {
      "needs_background": "light"
     },
     "output_type": "display_data"
    }
   ],
   "source": [
    "sns.displot(dataset['SalePrice']) \n"
   ]
  },
  {
   "cell_type": "markdown",
   "metadata": {},
   "source": [
    "#### 2. OverallQual"
   ]
  },
  {
   "cell_type": "code",
   "execution_count": 50,
   "metadata": {},
   "outputs": [
    {
     "data": {
      "text/plain": [
       "<seaborn.axisgrid.FacetGrid at 0x22f27504070>"
      ]
     },
     "execution_count": 50,
     "metadata": {},
     "output_type": "execute_result"
    },
    {
     "data": {
      "image/png": "[encoded data removed]",
      "text/plain": [
       "<Figure size 360x360 with 1 Axes>"
      ]
     },
     "metadata": {
      "needs_background": "light"
     },
     "output_type": "display_data"
    }
   ],
   "source": [
    "sns.displot(dataset['OverallQual'])\n"
   ]
  },
  {
   "cell_type": "markdown",
   "metadata": {},
   "source": [
    "#### 3. 1stFlrSF"
   ]
  },
  {
   "cell_type": "code",
   "execution_count": 51,
   "metadata": {},
   "outputs": [
    {
     "data": {
      "text/plain": [
       "<seaborn.axisgrid.FacetGrid at 0x22f274fc7c0>"
      ]
     },
     "execution_count": 51,
     "metadata": {},
     "output_type": "execute_result"
    },
    {
     "data": {
      "image/png": "[encoded data removed]",
      "text/plain": [
       "<Figure size 360x360 with 1 Axes>"
      ]
     },
     "metadata": {
      "needs_background": "light"
     },
     "output_type": "display_data"
    }
   ],
   "source": [
    "sns.displot(dataset['1stFlrSF'])\n"
   ]
  },
  {
   "cell_type": "markdown",
   "metadata": {},
   "source": [
    "#### 4. TotRmsAbvGrd"
   ]
  },
  {
   "cell_type": "code",
   "execution_count": 52,
   "metadata": {},
   "outputs": [
    {
     "data": {
      "text/plain": [
       "<seaborn.axisgrid.FacetGrid at 0x22f275d30a0>"
      ]
     },
     "execution_count": 52,
     "metadata": {},
     "output_type": "execute_result"
    },
    {
     "data": {
      "image/png": "[encoded data removed]",
      "text/plain": [
       "<Figure size 360x360 with 1 Axes>"
      ]
     },
     "metadata": {
      "needs_background": "light"
     },
     "output_type": "display_data"
    }
   ],
   "source": [
    "sns.displot(dataset['TotRmsAbvGrd'])\n"
   ]
  },
  {
   "cell_type": "markdown",
   "metadata": {},
   "source": [
    "#### 5. YearBuilt"
   ]
  },
  {
   "cell_type": "code",
   "execution_count": 53,
   "metadata": {},
   "outputs": [
    {
     "data": {
      "text/plain": [
       "<seaborn.axisgrid.FacetGrid at 0x22f275f6cd0>"
      ]
     },
     "execution_count": 53,
     "metadata": {},
     "output_type": "execute_result"
    },
    {
     "data": {
      "image/png": "[encoded data removed]",
      "text/plain": [
       "<Figure size 360x360 with 1 Axes>"
      ]
     },
     "metadata": {
      "needs_background": "light"
     },
     "output_type": "display_data"
    }
   ],
   "source": [
    "sns.displot(dataset['YearBuilt'])\n"
   ]
  },
  {
   "cell_type": "markdown",
   "metadata": {},
   "source": [
    "#### 6. LotFrontage"
   ]
  },
  {
   "cell_type": "code",
   "execution_count": 54,
   "metadata": {},
   "outputs": [
    {
     "data": {
      "text/plain": [
       "<seaborn.axisgrid.FacetGrid at 0x22f27408df0>"
      ]
     },
     "execution_count": 54,
     "metadata": {},
     "output_type": "execute_result"
    },
    {
     "data": {
      "image/png": "[encoded data removed]",
      "text/plain": [
       "<Figure size 360x360 with 1 Axes>"
      ]
     },
     "metadata": {
      "needs_background": "light"
     },
     "output_type": "display_data"
    }
   ],
   "source": [
    "sns.displot(dataset['LotFrontage'])"
   ]
  },
  {
   "cell_type": "markdown",
   "metadata": {},
   "source": [
    "### SCARTPLOT"
   ]
  },
  {
   "cell_type": "markdown",
   "metadata": {},
   "source": [
    "#### 1. OverallQual"
   ]
  },
  {
   "cell_type": "code",
   "execution_count": 55,
   "metadata": {},
   "outputs": [
    {
     "data": {
      "text/plain": [
       "Text(0.5, 1.0, 'La correlación es 0.791')"
      ]
     },
     "execution_count": 55,
     "metadata": {},
     "output_type": "execute_result"
    },
    {
     "data": {
      "image/png": "[encoded data removed]",
      "text/plain": [
       "<Figure size 432x288 with 1 Axes>"
      ]
     },
     "metadata": {
      "needs_background": "light"
     },
     "output_type": "display_data"
    }
   ],
   "source": [
    "plt.scatter(x='OverallQual', y='SalePrice', data = dataset); plt.title(f'La correlación es {round(pearsonr(dataset[\"SalePrice\"], dataset[\"OverallQual\"])[0],3)}')\n"
   ]
  },
  {
   "cell_type": "markdown",
   "metadata": {},
   "source": [
    "#### 2. 1stFlrSF"
   ]
  },
  {
   "cell_type": "code",
   "execution_count": 56,
   "metadata": {},
   "outputs": [
    {
     "data": {
      "text/plain": [
       "Text(0.5, 1.0, 'La correlación es 0.606')"
      ]
     },
     "execution_count": 56,
     "metadata": {},
     "output_type": "execute_result"
    },
    {
     "data": {
      "image/png": "[encoded data removed]",
      "text/plain": [
       "<Figure size 432x288 with 1 Axes>"
      ]
     },
     "metadata": {
      "needs_background": "light"
     },
     "output_type": "display_data"
    }
   ],
   "source": [
    "plt.scatter(x='1stFlrSF', y='SalePrice', data = dataset); plt.title(f'La correlación es {round(pearsonr(dataset[\"SalePrice\"], dataset[\"1stFlrSF\"])[0],3)}')\n"
   ]
  },
  {
   "cell_type": "markdown",
   "metadata": {},
   "source": [
    "#### 3. TotRmsAbvGrd"
   ]
  },
  {
   "cell_type": "code",
   "execution_count": 57,
   "metadata": {},
   "outputs": [
    {
     "data": {
      "text/plain": [
       "Text(0.5, 1.0, 'La correlación es 0.534')"
      ]
     },
     "execution_count": 57,
     "metadata": {},
     "output_type": "execute_result"
    },
    {
     "data": {
      "image/png": "[encoded data removed]",
      "text/plain": [
       "<Figure size 432x288 with 1 Axes>"
      ]
     },
     "metadata": {
      "needs_background": "light"
     },
     "output_type": "display_data"
    }
   ],
   "source": [
    "plt.scatter(x='TotRmsAbvGrd', y='SalePrice', data = dataset); plt.title(f'La correlación es {round(pearsonr(dataset[\"SalePrice\"], dataset[\"TotRmsAbvGrd\"])[0],3)}')\n"
   ]
  },
  {
   "cell_type": "markdown",
   "metadata": {},
   "source": [
    "#### 4. YearBuilt"
   ]
  },
  {
   "cell_type": "code",
   "execution_count": 58,
   "metadata": {},
   "outputs": [
    {
     "data": {
      "text/plain": [
       "Text(0.5, 1.0, 'La correlación es 0.523')"
      ]
     },
     "execution_count": 58,
     "metadata": {},
     "output_type": "execute_result"
    },
    {
     "data": {
      "image/png": "[encoded data removed]",
      "text/plain": [
       "<Figure size 432x288 with 1 Axes>"
      ]
     },
     "metadata": {
      "needs_background": "light"
     },
     "output_type": "display_data"
    }
   ],
   "source": [
    "plt.scatter(x='YearBuilt', y='SalePrice', data = dataset); plt.title(f'La correlación es {round(pearsonr(dataset[\"SalePrice\"], dataset[\"YearBuilt\"])[0],3)}')\n"
   ]
  },
  {
   "cell_type": "markdown",
   "metadata": {},
   "source": [
    "#### 5. LotFrontage"
   ]
  },
  {
   "cell_type": "code",
   "execution_count": 59,
   "metadata": {},
   "outputs": [
    {
     "data": {
      "text/plain": [
       "Text(0.5, 1.0, 'La correlación es 0.352')"
      ]
     },
     "execution_count": 59,
     "metadata": {},
     "output_type": "execute_result"
    },
    {
     "data": {
      "image/png": "[encoded data removed]",
      "text/plain": [
       "<Figure size 432x288 with 1 Axes>"
      ]
     },
     "metadata": {
      "needs_background": "light"
     },
     "output_type": "display_data"
    }
   ],
   "source": [
    "plt.scatter(x='LotFrontage', y='SalePrice', data = dataset); plt.title(f'La correlación es {round(pearsonr(dataset[~pd.isna(dataset[\"LotFrontage\"])][\"SalePrice\"], dataset[~pd.isna(dataset[\"LotFrontage\"])][\"LotFrontage\"])[0],3)}')\n"
   ]
  },
  {
   "cell_type": "markdown",
   "metadata": {},
   "source": [
    "### Variables con más potencial predictivo"
   ]
  },
  {
   "cell_type": "code",
   "execution_count": 60,
   "metadata": {},
   "outputs": [
    {
     "data": {
      "text/plain": [
       "<AxesSubplot:>"
      ]
     },
     "execution_count": 60,
     "metadata": {},
     "output_type": "execute_result"
    },
    {
     "data": {
      "image/png": "[encoded data removed]",
      "text/plain": [
       "<Figure size 432x288 with 2 Axes>"
      ]
     },
     "metadata": {
      "needs_background": "light"
     },
     "output_type": "display_data"
    }
   ],
   "source": [
    "sns.heatmap(dataset.corr(), annot = True)\n"
   ]
  },
  {
   "cell_type": "markdown",
   "metadata": {},
   "source": [
    "Las variables con mayor potencial predictivo son OverallQual (correlación de 0.79) y 1stFlrSF (correlación de 0.61)"
   ]
  },
  {
   "cell_type": "markdown",
   "metadata": {},
   "source": [
    "## Función para entrenar un modelo de regresión lineal de una variable y = mx +b.\n"
   ]
  },
  {
   "cell_type": "markdown",
   "metadata": {},
   "source": [
    "### Funciones"
   ]
  },
  {
   "cell_type": "code",
   "execution_count": 61,
   "metadata": {},
   "outputs": [],
   "source": [
    "def LinReg(x, y, lr = .01, epochs = 10000):\n",
    "    m = len(x)\n",
    "    one = np.ones(m) \n",
    "    X = np.array([one,x])\n",
    "    w = np.zeros(2)\n",
    "    error = []\n",
    "    \n",
    "    for it in range(epochs):\n",
    "        y_pred = np.dot(X.T,w)\n",
    "        res = y_pred - y\n",
    "        err = np.sum(res**2)/(2*m)\n",
    "        error.append(err)\n",
    "        grad = np.dot(X,res)/m\n",
    "        w = w - lr*grad\n",
    "    return({'params':w, 'errores':error})\n",
    "\n",
    "\n",
    "def predictLR(x,w):\n",
    "    m = len(x)\n",
    "    one = np.ones(m) \n",
    "    X = np.array([one,x]).T\n",
    "    pred = np.dot(X, w)\n",
    "    return pred\n",
    "\n",
    "def rmse(y, y_hat):\n",
    "    return np.sqrt(np.sum((y_hat - y)**2)/len(y))\n",
    "\n",
    "def r2_score(y, y_hat):\n",
    "    ssr = np.sum((y_hat - y)**2)\n",
    "    sst = np.sum((y - np.mean(y))**2)\n",
    "    return 1 - (ssr/sst)\n"
   ]
  },
  {
   "cell_type": "markdown",
   "metadata": {},
   "source": [
    "### Modelo1"
   ]
  },
  {
   "cell_type": "code",
   "execution_count": 62,
   "metadata": {},
   "outputs": [
    {
     "data": {
      "text/plain": [
       "<AxesSubplot:>"
      ]
     },
     "execution_count": 62,
     "metadata": {},
     "output_type": "execute_result"
    },
    {
     "data": {
      "image/png": "[encoded data removed]",
      "text/plain": [
       "<Figure size 432x288 with 1 Axes>"
      ]
     },
     "metadata": {
      "needs_background": "light"
     },
     "output_type": "display_data"
    }
   ],
   "source": [
    "model1 = LinReg(x = np.array(dataset[dataset['grupo'] == 'training']['OverallQual']),\n",
    "                y = np.array(dataset[dataset['grupo'] == 'training']['SalePrice']))\n",
    "\n",
    "params1 = model1['params']\n",
    "err1 = model1['errores'][10:]\n",
    "pred1 = predictLR(x = np.array(dataset[dataset['grupo'] == 'test']['OverallQual']),\n",
    "                  w = params1)\n",
    "\n",
    "e2m1 = rmse(y = np.array(dataset[dataset['grupo'] == 'test']['SalePrice']),\n",
    "            y_hat = pred1)\n",
    "\n",
    "r2_mod1 = r2_score(y = np.array(dataset[dataset['grupo'] == 'test']['SalePrice']),\n",
    "                   y_hat = pred1)\n",
    "\n",
    "sns.scatterplot(x = np.array(dataset[dataset['grupo'] == 'test']['OverallQual']),\n",
    "                y = pred1)"
   ]
  },
  {
   "cell_type": "markdown",
   "metadata": {},
   "source": [
    "#### Intercepto y coeficiente"
   ]
  },
  {
   "cell_type": "code",
   "execution_count": 63,
   "metadata": {},
   "outputs": [
    {
     "data": {
      "text/plain": [
       "array([-95890.1691479 ,  45509.89624475])"
      ]
     },
     "execution_count": 63,
     "metadata": {},
     "output_type": "execute_result"
    }
   ],
   "source": [
    "params1"
   ]
  },
  {
   "cell_type": "markdown",
   "metadata": {},
   "source": [
    "#### Intercepto y coeficiente scikit-learn"
   ]
  },
  {
   "cell_type": "code",
   "execution_count": 64,
   "metadata": {},
   "outputs": [
    {
     "data": {
      "text/plain": [
       "[-96764.25542021525, array([45646.05017233])]"
      ]
     },
     "execution_count": 64,
     "metadata": {},
     "output_type": "execute_result"
    }
   ],
   "source": [
    "X = np.array(dataset[dataset['grupo'] == 'training']['OverallQual']).reshape(-1, 1)\n",
    "Y = np.array(dataset[dataset['grupo'] == 'training']['SalePrice']) \n",
    "regr = linear_model.LinearRegression()\n",
    "regr.fit(X, Y)\n",
    "[regr.intercept_, regr.coef_]"
   ]
  },
  {
   "cell_type": "markdown",
   "metadata": {},
   "source": [
    "#### Evolución del error"
   ]
  },
  {
   "cell_type": "code",
   "execution_count": 65,
   "metadata": {},
   "outputs": [
    {
     "data": {
      "image/png": "[encoded data removed]",
      "text/plain": [
       "<Figure size 432x288 with 1 Axes>"
      ]
     },
     "metadata": {
      "needs_background": "light"
     },
     "output_type": "display_data"
    }
   ],
   "source": [
    "plt.plot(err1)\n",
    "plt.ylabel('Error')\n",
    "plt.show()"
   ]
  },
  {
   "cell_type": "markdown",
   "metadata": {},
   "source": [
    "#### Error en validación"
   ]
  },
  {
   "cell_type": "code",
   "execution_count": 66,
   "metadata": {},
   "outputs": [
    {
     "data": {
      "text/plain": [
       "42752.638844956644"
      ]
     },
     "execution_count": 66,
     "metadata": {},
     "output_type": "execute_result"
    }
   ],
   "source": [
    "e2m1"
   ]
  },
  {
   "cell_type": "markdown",
   "metadata": {},
   "source": [
    "#### Acertividad"
   ]
  },
  {
   "cell_type": "code",
   "execution_count": 67,
   "metadata": {},
   "outputs": [
    {
     "data": {
      "text/plain": [
       "0.6717509674025107"
      ]
     },
     "execution_count": 67,
     "metadata": {},
     "output_type": "execute_result"
    }
   ],
   "source": [
    "r2_mod1"
   ]
  },
  {
   "cell_type": "markdown",
   "metadata": {},
   "source": [
    "### Modelo2"
   ]
  },
  {
   "cell_type": "markdown",
   "metadata": {},
   "source": [
    "El segundo modelo deberia estimarse con la variable 1stFlrSF pero me generó problemas de overflow, así que tuve que realizarlo con la tercera variable mas predictiva."
   ]
  },
  {
   "cell_type": "code",
   "execution_count": 68,
   "metadata": {},
   "outputs": [
    {
     "data": {
      "text/plain": [
       "<AxesSubplot:>"
      ]
     },
     "execution_count": 68,
     "metadata": {},
     "output_type": "execute_result"
    },
    {
     "data": {
      "image/png": "[encoded data removed]",
      "text/plain": [
       "<Figure size 432x288 with 1 Axes>"
      ]
     },
     "metadata": {
      "needs_background": "light"
     },
     "output_type": "display_data"
    }
   ],
   "source": [
    "\n",
    "\n",
    "model2 = LinReg(x = np.array(dataset[dataset['grupo'] == 'training']['TotRmsAbvGrd']),\n",
    "                y = np.array(dataset[dataset['grupo'] == 'training']['SalePrice']))\n",
    "\n",
    "params2 = model2['params']\n",
    "err2 = model2['errores'][10:]\n",
    "pred2 = predictLR(x = np.array(dataset[dataset['grupo'] == 'test']['TotRmsAbvGrd']),\n",
    "                  w = params2)\n",
    "\n",
    "e2m2 = rmse(y = np.array(dataset[dataset['grupo'] == 'test']['SalePrice']),\n",
    "            y_hat = pred2)\n",
    "\n",
    "r2_mod2 = r2_score(y = np.array(dataset[dataset['grupo'] == 'test']['SalePrice']),\n",
    "                   y_hat = pred2)\n",
    "\n",
    "sns.scatterplot(x = np.array(dataset[dataset['grupo'] == 'test']['TotRmsAbvGrd']),\n",
    "                y = pred2)"
   ]
  },
  {
   "cell_type": "markdown",
   "metadata": {},
   "source": [
    "#### Intercepto y coeficiente"
   ]
  },
  {
   "cell_type": "code",
   "execution_count": 69,
   "metadata": {},
   "outputs": [
    {
     "data": {
      "text/plain": [
       "array([12991.57289488, 25863.95090763])"
      ]
     },
     "execution_count": 69,
     "metadata": {},
     "output_type": "execute_result"
    }
   ],
   "source": [
    "params2"
   ]
  },
  {
   "cell_type": "markdown",
   "metadata": {},
   "source": [
    "#### Intercepto y coeficiente scikit-learn"
   ]
  },
  {
   "cell_type": "code",
   "execution_count": 70,
   "metadata": {},
   "outputs": [
    {
     "data": {
      "text/plain": [
       "[13017.705678706232, array([25860.19348421])]"
      ]
     },
     "execution_count": 70,
     "metadata": {},
     "output_type": "execute_result"
    }
   ],
   "source": [
    "X2 = np.array(dataset[dataset['grupo'] == 'training']['TotRmsAbvGrd']).reshape(-1, 1)\n",
    "Y2 = np.array(dataset[dataset['grupo'] == 'training']['SalePrice']) \n",
    "regr2 = linear_model.LinearRegression()\n",
    "regr2.fit(X2, Y2)\n",
    "[regr2.intercept_, regr2.coef_]"
   ]
  },
  {
   "cell_type": "markdown",
   "metadata": {},
   "source": [
    "#### Evolución del error"
   ]
  },
  {
   "cell_type": "code",
   "execution_count": 71,
   "metadata": {},
   "outputs": [
    {
     "data": {
      "image/png": "[encoded data removed]",
      "text/plain": [
       "<Figure size 432x288 with 1 Axes>"
      ]
     },
     "metadata": {
      "needs_background": "light"
     },
     "output_type": "display_data"
    }
   ],
   "source": [
    "plt.plot(err2)\n",
    "plt.ylabel('Error')\n",
    "plt.show()"
   ]
  },
  {
   "cell_type": "markdown",
   "metadata": {},
   "source": [
    "#### Acertividad"
   ]
  },
  {
   "cell_type": "code",
   "execution_count": 72,
   "metadata": {},
   "outputs": [
    {
     "data": {
      "text/plain": [
       "0.2969123744606209"
      ]
     },
     "execution_count": 72,
     "metadata": {},
     "output_type": "execute_result"
    }
   ],
   "source": [
    "r2_mod2"
   ]
  },
  {
   "cell_type": "markdown",
   "metadata": {},
   "source": [
    "### CONCLUSION"
   ]
  },
  {
   "cell_type": "markdown",
   "metadata": {},
   "source": [
    "1. El porcentaje de acierto del modelo1 que es explicado con la variable OverallQual es de 67% vs 30% cuando es explicado con la variable TotRmsAbvGrd. \n"
   ]
  },
  {
   "cell_type": "code",
   "execution_count": null,
   "metadata": {},
   "outputs": [],
   "source": []
  }
 ],
 "metadata": {
  "kernelspec": {
   "display_name": "Python 3",
   "language": "python",
   "name": "python3"
  },
  "language_info": {
   "codemirror_mode": {
    "name": "ipython",
    "version": 3
   },
   "file_extension": ".py",
   "mimetype": "text/x-python",
   "name": "python",
   "nbconvert_exporter": "python",
   "pygments_lexer": "ipython3",
   "version": "3.8.5"
  }
 },
 "nbformat": 4,
 "nbformat_minor": 4
}
